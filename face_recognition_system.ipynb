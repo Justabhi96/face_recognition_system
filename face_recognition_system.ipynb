{
  "nbformat": 4,
  "nbformat_minor": 0,
  "metadata": {
    "colab": {
      "name": "face_recognition_system",
      "version": "0.3.2",
      "provenance": [],
      "collapsed_sections": [],
      "include_colab_link": true
    },
    "kernelspec": {
      "name": "python3",
      "display_name": "Python 3"
    },
    "accelerator": "GPU"
  },
  "cells": [
    {
      "cell_type": "markdown",
      "metadata": {
        "id": "view-in-github",
        "colab_type": "text"
      },
      "source": [
        "<a href=\"https://colab.research.google.com/github/Justabhi96/face_recognition_system/blob/master/face_recognition_system.ipynb\" target=\"_parent\"><img src=\"https://colab.research.google.com/assets/colab-badge.svg\" alt=\"Open In Colab\"/></a>"
      ]
    },
    {
      "cell_type": "code",
      "metadata": {
        "id": "eEE7N1FPQChp",
        "colab_type": "code",
        "colab": {}
      },
      "source": [
        "%%capture\n",
        "!pip install face_recognition"
      ],
      "execution_count": 0,
      "outputs": []
    },
    {
      "cell_type": "code",
      "metadata": {
        "id": "qCiHKwfGQnUw",
        "colab_type": "code",
        "colab": {}
      },
      "source": [
        "import cv2\n",
        "import face_recognition as fr\n",
        "from google.colab.patches import cv2_imshow\n",
        "import matplotlib.pyplot as plt\n",
        "import numpy as np\n",
        "import os\n",
        "import pickle"
      ],
      "execution_count": 0,
      "outputs": []
    },
    {
      "cell_type": "code",
      "metadata": {
        "id": "nJLxygwADrDG",
        "colab_type": "code",
        "colab": {}
      },
      "source": [
        "class face_recognition_system:\n",
        "  \"\"\"\n",
        "  This class has function for recognizing people in the photos. It also contains functions for adding, removing and updating people.\n",
        "  \n",
        "  Attributes:\n",
        "    pickle_file_name(string): name of the pickle file in which face encodings of people will be stored or is stored\n",
        "  \"\"\"\n",
        "  \n",
        "  def __init__(self, pickle_file_name = \"face_encodings.pickle\"):\n",
        "    \"\"\"\n",
        "    Contructor for the class.\n",
        "    \n",
        "    Parameters:\n",
        "      pickle_file_name(string): name of the pickle file in which face encodings for people will be stored or is stored.\n",
        " \n",
        "    \"\"\"\n",
        "    self.pickle_file_name = pickle_file_name\n",
        "    if os.path.exists(pickle_file_name):\n",
        "      if os.path.getsize(pickle_file_name) > 0:\n",
        "        with open(pickle_file_name, \"rb\") as face_encodings_pickle:\n",
        "          self._known_emp_data = pickle.load(face_encodings_pickle)\n",
        "          self._known_emp_encodings = [i[0] for i in self._known_emp_data]\n",
        "          self._known_emp_names = [i[1].lower() for i in self._known_emp_data]\n",
        "      else:\n",
        "        self._known_emp_data = []\n",
        "        self._known_emp_encodings, self._known_emp_names = [],[]\n",
        "    else:\n",
        "      self._known_emp_data = []\n",
        "      self._known_emp_encodings, self._known_emp_names = [],[]\n",
        "      with open(pickle_file_name, \"wb\") as face_encodings_pickle:\n",
        "        pickle.dump([], face_encodings_pickle)\n",
        "  \n",
        "  def _save_in_pickle(self):\n",
        "    \"\"\"\n",
        "    Saves the known people face encodings in a pickle.\n",
        "    \"\"\"\n",
        "    \n",
        "    with open(self.pickle_file_name, \"wb\") as known_face_pickle:\n",
        "      pickle.dump(self._known_emp_data, known_face_pickle)\n",
        "    self.__init__(self.pickle_file_name)\n",
        "  \n",
        "  def get_emp_names(self):\n",
        "    \"\"\"\n",
        "    returns name of employees in record\n",
        "    \"\"\"\n",
        "    return self._known_emp_names\n",
        "    \n",
        "  def check_emp_existence(self, emp_name):\n",
        "    \"\"\"\n",
        "    Checks if an employee already exist in records.\n",
        "    \n",
        "    Parametes:\n",
        "      emp_name(string): name of the employee to be checked existence for.\n",
        "      \n",
        "    Returns:\n",
        "      boolean: True if exists else False\n",
        "    \"\"\"\n",
        "    \n",
        "    emp_name = emp_name.lower()\n",
        "    if emp_name in self._known_emp_names:\n",
        "      return True\n",
        "    return False\n",
        "  \n",
        "  def add_emp(self, image_path, emp_name):\n",
        "    \"\"\"\n",
        "    Adds a new employee in the records.\n",
        "    \n",
        "    Parameters:\n",
        "      image_path(string): path to the image of employee to be added.\n",
        "      emp_name(string): name of the employee to be added.\n",
        "      \n",
        "    Returns:\n",
        "      None\n",
        "    \"\"\"\n",
        "    \n",
        "    emp_name = emp_name.lower()\n",
        "    if self.check_emp_existence(emp_name):\n",
        "      print(\"Name already exists in records. Please use 'update_emp' function instead.\")\n",
        "      return\n",
        "    image_enc = fr.face_encodings(fr.load_image_file(image_path))[0]\n",
        "    self._known_emp_data.append([image_enc, emp_name])\n",
        "    self._save_in_pickle()\n",
        "    print(\"Employee added\")\n",
        "  \n",
        "  def remove_emp(self, emp_name):\n",
        "    \"\"\"\n",
        "    Removes an existing employee from the records.\n",
        "    \n",
        "    Parameters:\n",
        "      emp_name(string): name of employee to be removed.\n",
        "      \n",
        "    Returns:\n",
        "      None\n",
        "    \"\"\"\n",
        "    \n",
        "    emp_name = emp_name.lower()\n",
        "    if self.check_emp_existence(emp_name):\n",
        "      index = self._known_emp_names.index(emp_name)\n",
        "      self._known_emp_data.pop(index)\n",
        "      self._save_in_pickle()\n",
        "      print(\"Employee Removed\")\n",
        "    else:\n",
        "      print(\"Employee does not exists in records\")\n",
        "      \n",
        "  def update_emp(self, image_path, emp_name):\n",
        "    \"\"\"\n",
        "    Updates an existing employee face encoding in the known face encodings\n",
        "    \n",
        "    Parameters:\n",
        "      image_path(string): path to the image of employee to be updated.\n",
        "      emp_name(string): name of the employee to be updated.\n",
        "      \n",
        "    Returns:\n",
        "      None\n",
        "    \"\"\"\n",
        "    \n",
        "    emp_name = emp_name.lower()\n",
        "    if self.check_emp_existence(emp_name):\n",
        "      image_enc = fr.face_encodings(fr.load_image_file(image_path))[0]\n",
        "      index = self._known_emp_names.index(emp_name)\n",
        "      self._known_emp_data[index][0] = image_enc\n",
        "      self._save_in_pickle()\n",
        "      print(\"Employee Updated\")\n",
        "    else:\n",
        "      print(\"Employee does not exists in records\")\n",
        "    \n",
        "  def recognize(self, image_path):\n",
        "    \"\"\"\n",
        "    Matches the given person(s) with the known people in the records and returns the employee name(s).\n",
        "    \n",
        "    Prints the image passed in the console with person name.\n",
        "    \n",
        "    Parameters:\n",
        "      image_path(string): path to the image which has poeple to be recognized.\n",
        "      \n",
        "    Returns:\n",
        "      None\n",
        "    \"\"\"\n",
        "    \n",
        "    image = fr.load_image_file(image_path)\n",
        "    face_locations = fr.face_locations(image, model = \"cnn\")\n",
        "    images_encoding = fr.face_encodings(image, face_locations)\n",
        "    \n",
        "    for i in range(len(images_encoding)):\n",
        "      top, right, bottom, left = face_locations[i]\n",
        "      compare_results = fr.compare_faces(self._known_emp_encodings, images_encoding[i], 0.5)\n",
        "      if True in compare_results:\n",
        "        index = compare_results.index(True)\n",
        "        recognized_emp_name = self._known_emp_names[index].capitalize()\n",
        "      else:\n",
        "        recognized_emp_name = \"Unknown\"\n",
        "      cv2.rectangle(image, (left, top), (right, bottom), color = (0, 0, 255), thickness = 5)\n",
        "      cv2.putText(image, recognized_emp_name, (left, bottom+30), cv2.FONT_HERSHEY_PLAIN, 2, (0, 255, 0), thickness = 2)\n",
        "    cv2_imshow(image)\n",
        "    \n",
        "  def recognize_in_video(self, video_path):\n",
        "    \"\"\"\n",
        "    Recognizes poeple in the video.\n",
        "    \n",
        "    Parameters:\n",
        "      video_path(string): path of video file.\n",
        "      \n",
        "    Returns:\n",
        "      None\n",
        "    \"\"\"\n",
        "    \n",
        "    video = cv2.VideoCapture(video_path)\n",
        "    fourcc = cv2.VideoWriter_fourcc(*\"XVID\")\n",
        "    out = cv2.VideoWriter('output.mp4', fourcc, 20.0, (640, 480))\n",
        "    process_frame = True\n",
        "    while True:\n",
        "      is_feed, frame = video.read()\n",
        "      if is_feed:\n",
        "        emp_names = []\n",
        "        if process_frame:\n",
        "          small_frame = cv2.resize(frame, (0,0), fx = 0.25, fy = 0.25)\n",
        "          rgb_small_frame = small_frame[:,:,::-1]\n",
        "\n",
        "          face_locations = fr.face_locations(rgb_small_frame, model = \"cnn\")\n",
        "          images_encoding = fr.face_encodings(rgb_small_frame, face_locations)\n",
        "\n",
        "          for i in range(len(images_encoding)):\n",
        "            top, right, bottom, left = face_locations[i]\n",
        "            compare_results = fr.compare_faces(self._known_emp_encodings, images_encoding[i], 0.5)\n",
        "            if True in compare_results:\n",
        "              index = compare_results.index(True)\n",
        "              emp_name = self._known_emp_names[index]\n",
        "            else:\n",
        "              emp_name = \"Unknown\"\n",
        "            emp_names.append(emp_name)\n",
        "\n",
        "        process_frame = not process_frame\n",
        "\n",
        "        for (top, right, bottom, left), name in zip(face_locations, emp_names):\n",
        "          top, right, bottom, left = [i*4 for i in (top, right, bottom, left)]\n",
        "\n",
        "          # Draw a box around the face\n",
        "          cv2.rectangle(frame, (left, top), (right, bottom), (0, 0, 255), 2)\n",
        "\n",
        "          # Draw a label with a name below the face\n",
        "          cv2.rectangle(frame, (left, bottom - 35), (right, bottom), (0, 0, 255), cv2.FILLED)\n",
        "          font = cv2.FONT_HERSHEY_DUPLEX\n",
        "          cv2.putText(frame, name, (left + 6, bottom - 6), font, 1.0, (255, 255, 255), 1)\n",
        "\n",
        "        out.write(frame)\n",
        "      else:\n",
        "        out.release()\n",
        "        break"
      ],
      "execution_count": 0,
      "outputs": []
    },
    {
      "cell_type": "code",
      "metadata": {
        "id": "AmOBaPiZIwQ9",
        "colab_type": "code",
        "colab": {}
      },
      "source": [
        "recognition_system = face_recognition_system()"
      ],
      "execution_count": 0,
      "outputs": []
    },
    {
      "cell_type": "code",
      "metadata": {
        "id": "Vva5ygVUHa0d",
        "colab_type": "code",
        "outputId": "f33f5653-5114-4f5f-8622-a2b69095597e",
        "colab": {
          "base_uri": "https://localhost:8080/",
          "height": 34
        }
      },
      "source": [
        "recognition_system.check_emp_existence(\"abhishek\")"
      ],
      "execution_count": 30,
      "outputs": [
        {
          "output_type": "execute_result",
          "data": {
            "text/plain": [
              "False"
            ]
          },
          "metadata": {
            "tags": []
          },
          "execution_count": 30
        }
      ]
    },
    {
      "cell_type": "code",
      "metadata": {
        "id": "7GpFWP2b4umy",
        "colab_type": "code",
        "outputId": "c36ed8e1-e67d-4ff5-b8ce-3fbcd4a72abc",
        "colab": {
          "base_uri": "https://localhost:8080/",
          "height": 34
        }
      },
      "source": [
        "recognition_system.add_emp(\"abhi.jpg\", \"abhishek\")"
      ],
      "execution_count": 31,
      "outputs": [
        {
          "output_type": "stream",
          "text": [
            "Employee added\n"
          ],
          "name": "stdout"
        }
      ]
    },
    {
      "cell_type": "code",
      "metadata": {
        "id": "X8OuFmQttrX8",
        "colab_type": "code",
        "colab": {}
      },
      "source": [
        "recognition_system.recognize(\"abhi1.jpg\")"
      ],
      "execution_count": 0,
      "outputs": []
    },
    {
      "cell_type": "code",
      "metadata": {
        "id": "7isCO8Fes8js",
        "colab_type": "code",
        "outputId": "e95f666b-8417-4b39-f06f-bde4d6d94fac",
        "colab": {
          "base_uri": "https://localhost:8080/",
          "height": 34
        }
      },
      "source": [
        "recognition_system.update_emp(\"abhi1.jpg\", \"abhishek\")"
      ],
      "execution_count": 33,
      "outputs": [
        {
          "output_type": "stream",
          "text": [
            "Employee Updated\n"
          ],
          "name": "stdout"
        }
      ]
    },
    {
      "cell_type": "code",
      "metadata": {
        "id": "3H36e9wsI-VE",
        "colab_type": "code",
        "outputId": "f8f087db-0bf4-4b55-a854-600ad85505b4",
        "colab": {
          "base_uri": "https://localhost:8080/",
          "height": 34
        }
      },
      "source": [
        "recognition_system.remove_emp(\"abhishek\")"
      ],
      "execution_count": 34,
      "outputs": [
        {
          "output_type": "stream",
          "text": [
            "Employee Removed\n"
          ],
          "name": "stdout"
        }
      ]
    },
    {
      "cell_type": "code",
      "metadata": {
        "id": "IMESWbmzxb0p",
        "colab_type": "code",
        "colab": {
          "base_uri": "https://localhost:8080/",
          "height": 34
        },
        "outputId": "a28d489f-d651-4506-ba9c-dd7a49ed654e"
      },
      "source": [
        "recognition_system.check_emp_existence(\"abhishek\")"
      ],
      "execution_count": 35,
      "outputs": [
        {
          "output_type": "execute_result",
          "data": {
            "text/plain": [
              "False"
            ]
          },
          "metadata": {
            "tags": []
          },
          "execution_count": 35
        }
      ]
    }
  ]
}